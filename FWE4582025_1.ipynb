{
  "nbformat": 4,
  "nbformat_minor": 0,
  "metadata": {
    "colab": {
      "provenance": [],
      "authorship_tag": "ABX9TyP1piJGF+mvdWiWyKcVHbUR",
      "include_colab_link": true
    },
    "kernelspec": {
      "name": "python3",
      "display_name": "Python 3"
    },
    "language_info": {
      "name": "python"
    }
  },
  "cells": [
    {
      "cell_type": "markdown",
      "metadata": {
        "id": "view-in-github",
        "colab_type": "text"
      },
      "source": [
        "<a href=\"https://colab.research.google.com/github/minchen-wisc/test/blob/main/FWE4582025_1.ipynb\" target=\"_parent\"><img src=\"https://colab.research.google.com/assets/colab-badge.svg\" alt=\"Open In Colab\"/></a>"
      ]
    },
    {
      "cell_type": "code",
      "execution_count": null,
      "metadata": {
        "id": "5MQjFrXJu-uz"
      },
      "outputs": [],
      "source": []
    },
    {
      "cell_type": "markdown",
      "source": [
        "Hey. This is my first home work. The purpose is to introduce myself, and write my first python program here."
      ],
      "metadata": {
        "id": "pJ_DD2XgvJSh"
      }
    },
    {
      "cell_type": "code",
      "source": [
        "print(\"Hello World\")\n"
      ],
      "metadata": {
        "colab": {
          "base_uri": "https://localhost:8080/"
        },
        "id": "fLzlhaWGvYij",
        "outputId": "3b551573-193d-4b36-fc79-43ddac140e83"
      },
      "execution_count": 1,
      "outputs": [
        {
          "output_type": "stream",
          "name": "stdout",
          "text": [
            "Hello World\n"
          ]
        }
      ]
    },
    {
      "cell_type": "markdown",
      "source": [
        "now, **this is my second **[task](https://www.wisc.edu)\n",
        "\n"
      ],
      "metadata": {
        "id": "oeO0JE5Rvo6d"
      }
    },
    {
      "cell_type": "markdown",
      "source": [],
      "metadata": {
        "id": "UhsQKzpJvwTV"
      }
    },
    {
      "cell_type": "code",
      "source": [],
      "metadata": {
        "id": "XgXLqppIvwkh"
      },
      "execution_count": null,
      "outputs": []
    }
  ]
}